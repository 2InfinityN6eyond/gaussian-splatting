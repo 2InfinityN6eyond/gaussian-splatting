{
 "cells": [
  {
   "cell_type": "code",
   "execution_count": 1,
   "metadata": {},
   "outputs": [
    {
     "name": "stdout",
     "output_type": "stream",
     "text": [
      "Jupyter environment detected. Enabling Open3D WebVisualizer.\n",
      "[Open3D INFO] WebRTC GUI backend enabled.\n",
      "[Open3D INFO] WebRTCWindowSystem: HTTP handshake server disabled.\n"
     ]
    }
   ],
   "source": [
    "from glob import glob\n",
    "\n",
    "import torch\n",
    "from scene import Scene\n",
    "import os\n",
    "import open3d as o3d\n",
    "#from open3d import JVisualizer\n",
    "import sys\n",
    "import numpy as np\n",
    "from tqdm import tqdm\n",
    "from os import makedirs\n",
    "from gaussian_renderer import render\n",
    "import torchvision\n",
    "from argparse import ArgumentParser, Namespace\n",
    "\n",
    "import matplotlib.pyplot as plt\n",
    "from mpl_toolkits.mplot3d import Axes3D\n",
    "\n",
    "import plotly.graph_objs as go\n",
    "import plotly.offline as pyo\n",
    "from plotly.offline import init_notebook_mode, iplot\n",
    "\n",
    "from utils.general_utils import safe_state\n",
    "from arguments import ModelParams, PipelineParams, get_combined_args\n",
    "from gaussian_renderer import GaussianModel\n",
    "\n",
    "from scene.colmap_loader import (\n",
    "    read_extrinsics_text, read_intrinsics_text, qvec2rotmat,\n",
    "    read_extrinsics_binary, read_intrinsics_binary,\n",
    "    read_points3D_binary, read_points3D_text\n",
    ")\n",
    "from scene.dataset_readers import (\n",
    "    SceneInfo, readColmapCameras\n",
    ")"
   ]
  },
  {
   "cell_type": "code",
   "execution_count": null,
   "metadata": {},
   "outputs": [],
   "source": [
    "SOURCE_DATA_PATH_LIST = [\n",
    "    \"/home/hjp/KUAICV/NIPS2024_LOCAL/datasets/tandt/train/\"\n",
    "]\n",
    "\n",
    "# read camera parameter files and pointcloud files\n",
    "\n",
    "SCENE_IDX = 0\n",
    "\n",
    "SOURCE_DATA_PATH = SOURCE_DATA_PATH_LIST[SCENE_IDX]\n",
    "\n",
    "cameras_extrinsic_file = os.path.join(SOURCE_DATA_PATH, \"sparse/0\", \"images.bin\")\n",
    "cameras_intrinsic_file = os.path.join(SOURCE_DATA_PATH, \"sparse/0\", \"cameras.bin\")\n",
    "pointcloud_bin_file = os.path.join(SOURCE_DATA_PATH, \"sparse/0\", \"points3D.bin\")\n",
    "pointcloud_ply_file = os.path.join(SOURCE_DATA_PATH, \"sparse/0\", \"points3D.ply\")\n",
    "\n",
    "cam_extrinsics = read_extrinsics_binary(cameras_extrinsic_file)\n",
    "cam_intrinsics = read_intrinsics_binary(cameras_intrinsic_file)\n",
    "xyz, rgb, _ = read_points3D_binary(pointcloud_bin_file)\n",
    "\n",
    "cam_info_list = readColmapCameras(\n",
    "    cam_extrinsics  = cam_extrinsics,\n",
    "    cam_intrinsics  = cam_intrinsics,\n",
    "    images_folder   = os.path.join(SOURCE_DATA_PATH, \"images\")\n",
    ")\n",
    "\n",
    "pcd = o3d.io.read_point_cloud(pointcloud_ply_file)\n",
    "# get numpber of points\n",
    "print(len(pcd.points), \"points\")"
   ]
  },
  {
   "cell_type": "code",
   "execution_count": null,
   "metadata": {},
   "outputs": [],
   "source": [
    "from plyfile import PlyData, PlyElement\n",
    "\n",
    "\n",
    "MODEL_PATH = \"/home/hjp/KUAICV/NIPS2024_LOCAL/gaussian-splatting/output/e991fed0-9/\"\n",
    "out_pcd_path = os.path.join(\n",
    "    MODEL_PATH,\n",
    "    \"point_cloud/iteration_30000/point_clout.ply\"\n",
    ")\n",
    "out_pcd_path = \"/home/hjp/KUAICV/NIPS2024_LOCAL/gaussian-splatting/output/e991fed0-9/point_cloud/iteration_30000/point_clout.ply\"\n",
    "out_pcd_path = \"/home/hjp/KUAICV/NIPS2024_LOCAL/gaussian-splatting/output/e991fed0-9/point_cloud/iteration_30000/point_cloud.ply\"\n",
    "\n",
    "ply_data = PlyData.read(out_pcd_path)\n",
    "\n",
    "xyz = np.stack((\n",
    "    np.asarray(ply_data.elements[0][\"x\"]),\n",
    "    np.asarray(ply_data.elements[0][\"y\"]),\n",
    "    np.asarray(ply_data.elements[0][\"z\"])),\n",
    "    axis=1\n",
    ")"
   ]
  },
  {
   "cell_type": "code",
   "execution_count": null,
   "metadata": {},
   "outputs": [],
   "source": [
    "xyz.shape"
   ]
  }
 ],
 "metadata": {
  "kernelspec": {
   "display_name": "gs",
   "language": "python",
   "name": "python3"
  },
  "language_info": {
   "codemirror_mode": {
    "name": "ipython",
    "version": 3
   },
   "file_extension": ".py",
   "mimetype": "text/x-python",
   "name": "python",
   "nbconvert_exporter": "python",
   "pygments_lexer": "ipython3",
   "version": "3.7.13"
  }
 },
 "nbformat": 4,
 "nbformat_minor": 2
}
