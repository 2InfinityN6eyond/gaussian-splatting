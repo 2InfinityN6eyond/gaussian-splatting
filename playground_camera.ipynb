{
 "cells": [
  {
   "cell_type": "code",
   "execution_count": 1,
   "metadata": {},
   "outputs": [
    {
     "name": "stderr",
     "output_type": "stream",
     "text": [
      "/home/hjp/.conda/envs/gs/lib/python3.7/site-packages/tqdm/auto.py:21: TqdmWarning: IProgress not found. Please update jupyter and ipywidgets. See https://ipywidgets.readthedocs.io/en/stable/user_install.html\n",
      "  from .autonotebook import tqdm as notebook_tqdm\n"
     ]
    }
   ],
   "source": [
    "from glob import glob\n",
    "\n",
    "import torch\n",
    "from scene import Scene\n",
    "import os\n",
    "import sys\n",
    "from tqdm import tqdm\n",
    "from os import makedirs\n",
    "from gaussian_renderer import render\n",
    "import torchvision\n",
    "from argparse import ArgumentParser, Namespace\n",
    "\n",
    "from utils.general_utils import safe_state\n",
    "from arguments import ModelParams, PipelineParams, get_combined_args\n",
    "from gaussian_renderer import GaussianModel\n",
    "\n",
    "import matplotlib.pyplot as plt\n",
    "from mpl_toolkits.mplot3d import Axes3D\n",
    "\n",
    "import plotly.graph_objs as go\n",
    "import plotly.offline as pyo\n",
    "from plotly.offline import init_notebook_mode, iplot\n",
    "\n",
    "from scene.colmap_loader import (\n",
    "    read_extrinsics_text, read_intrinsics_text, qvec2rotmat,\n",
    "    read_extrinsics_binary, read_intrinsics_binary,\n",
    "    read_points3D_binary, read_points3D_text\n",
    ")\n"
   ]
  },
  {
   "cell_type": "code",
   "execution_count": null,
   "metadata": {},
   "outputs": [],
   "source": [
    "SOURCE_DATA_PATH_LIST = [\n",
    "    \"/home/hjp/KUAICV/NIPS2024_LOCAL/datasets/tandt/train/\"\n",
    "]"
   ]
  }
 ],
 "metadata": {
  "kernelspec": {
   "display_name": "gs",
   "language": "python",
   "name": "python3"
  },
  "language_info": {
   "codemirror_mode": {
    "name": "ipython",
    "version": 3
   },
   "file_extension": ".py",
   "mimetype": "text/x-python",
   "name": "python",
   "nbconvert_exporter": "python",
   "pygments_lexer": "ipython3",
   "version": "3.7.13"
  }
 },
 "nbformat": 4,
 "nbformat_minor": 2
}
