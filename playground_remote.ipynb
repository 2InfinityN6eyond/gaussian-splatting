{
 "cells": [
  {
   "cell_type": "code",
   "execution_count": 12,
   "metadata": {},
   "outputs": [
    {
     "name": "stdout",
     "output_type": "stream",
     "text": [
      "tensor([[[ 0.,  1.,  2.,  3.,  4.],\n",
      "         [ 5.,  6.,  7.,  8.,  9.],\n",
      "         [10., 11., 12., 13., 14.],\n",
      "         [15., 16., 17., 18., 19.]],\n",
      "\n",
      "        [[20., 21., 22., 23., 24.],\n",
      "         [25., 26., 27., 28., 29.],\n",
      "         [30., 31., 32., 33., 34.],\n",
      "         [35., 36., 37., 38., 39.]],\n",
      "\n",
      "        [[40., 41., 42., 43., 44.],\n",
      "         [45., 46., 47., 48., 49.],\n",
      "         [50., 51., 52., 53., 54.],\n",
      "         [55., 56., 57., 58., 59.]]])\n",
      "torch.Size([3, 4, 5])\n",
      "---------------\n",
      "tensor([[[ 0.,  1.,  2.,  3.,  4.],\n",
      "         [20., 21., 22., 23., 24.],\n",
      "         [40., 41., 42., 43., 44.]],\n",
      "\n",
      "        [[ 5.,  6.,  7.,  8.,  9.],\n",
      "         [25., 26., 27., 28., 29.],\n",
      "         [45., 46., 47., 48., 49.]],\n",
      "\n",
      "        [[10., 11., 12., 13., 14.],\n",
      "         [30., 31., 32., 33., 34.],\n",
      "         [50., 51., 52., 53., 54.]],\n",
      "\n",
      "        [[15., 16., 17., 18., 19.],\n",
      "         [35., 36., 37., 38., 39.],\n",
      "         [55., 56., 57., 58., 59.]]])\n",
      "torch.Size([4, 3, 5])\n"
     ]
    }
   ],
   "source": [
    "from pprint import pprint\n",
    "import torch\n",
    "\n",
    "t1 = torch.tensor(list(range(3*4*5)), dtype=torch.float32).view(3,4,5)\n",
    "pprint(t1)\n",
    "print(t1.shape)\n",
    "print(\"---------------\")\n",
    "pprint(t1.transpose(0,1))\n",
    "print(t1.transpose(0,1).shape)"
   ]
  },
  {
   "cell_type": "code",
   "execution_count": 1,
   "metadata": {},
   "outputs": [
    {
     "name": "stderr",
     "output_type": "stream",
     "text": [
      "/home/hjp/.conda/envs/gs/lib/python3.7/site-packages/tqdm/auto.py:21: TqdmWarning: IProgress not found. Please update jupyter and ipywidgets. See https://ipywidgets.readthedocs.io/en/stable/user_install.html\n",
      "  from .autonotebook import tqdm as notebook_tqdm\n"
     ]
    },
    {
     "name": "stdout",
     "output_type": "stream",
     "text": [
      "Reading camera 301/301\n",
      "Loading Training Cameras\n",
      "Loading Test Cameras\n",
      "Number of points at initialisation :  182686\n"
     ]
    }
   ],
   "source": [
    "\n",
    "import torch\n",
    "from argparse import ArgumentParser\n",
    "from pprint import pprint\n",
    "from tqdm import tqdm\n",
    "import time\n",
    "\n",
    "from arguments import ModelParams, PipelineParams, OptimizationParams\n",
    "\n",
    "# test GaussianModel\n",
    "from scene.gaussian_model import GaussianModel\n",
    "from scene import Scene\n",
    "\n",
    "parser = ArgumentParser(description=\"Training script parameters\")\n",
    "lp = ModelParams(parser)\n",
    "op = OptimizationParams(parser)\n",
    "pp = PipelineParams(parser)\n",
    "parser.add_argument('--ip', type=str, default=\"127.0.0.1\")\n",
    "parser.add_argument('--port', type=int, default=6009)\n",
    "parser.add_argument('--debug_from', type=int, default=-1)\n",
    "parser.add_argument('--detect_anomaly', action='store_true', default=False)\n",
    "parser.add_argument(\"--test_iterations\", nargs=\"+\", type=int, default=[7_000, 30_000])\n",
    "parser.add_argument(\"--save_iterations\", nargs=\"+\", type=int, default=[7_000, 30_000])\n",
    "parser.add_argument(\"--quiet\", action=\"store_true\")\n",
    "parser.add_argument(\"--checkpoint_iterations\", nargs=\"+\", type=int, default=[])\n",
    "parser.add_argument(\"--start_checkpoint\", type=str, default = None)\n",
    "args = parser.parse_args(args=[\n",
    "    \"--source_path\", \"/home/youngdong/dataset/tandt/train\"\n",
    "])\n",
    "\n",
    "model_args = lp.extract(args)\n",
    "\n",
    "gaussian_model = GaussianModel(sh_degree=100)\n",
    "scene = Scene(model_args, gaussian_model)\n",
    "gaussian_model.training_setup(op)"
   ]
  },
  {
   "cell_type": "code",
   "execution_count": 2,
   "metadata": {},
   "outputs": [
    {
     "name": "stdout",
     "output_type": "stream",
     "text": [
      "Reading camera 301/301\n"
     ]
    }
   ],
   "source": [
    "from utils.system_utils import searchForMaxIteration\n",
    "from scene.dataset_readers import sceneLoadTypeCallbacks\n",
    "from scene.gaussian_model import GaussianModel\n",
    "from arguments import ModelParams\n",
    "from utils.camera_utils import cameraList_from_camInfos, camera_to_JSON\n",
    "\n",
    "scene_info = sceneLoadTypeCallbacks[\"Colmap\"](\n",
    "    model_args.source_path,\n",
    "    model_args.images,\n",
    "    model_args.eval\n",
    ")"
   ]
  },
  {
   "cell_type": "code",
   "execution_count": 11,
   "metadata": {},
   "outputs": [
    {
     "data": {
      "text/plain": [
       "Parameter containing:\n",
       "tensor([[-5.1215, -5.1215, -5.1215],\n",
       "        [-4.7858, -4.7858, -4.7858],\n",
       "        [-4.8477, -4.8477, -4.8477],\n",
       "        ...,\n",
       "        [-4.2819, -4.2819, -4.2819],\n",
       "        [-4.2442, -4.2442, -4.2442],\n",
       "        [-4.0797, -4.0797, -4.0797]], device='cuda:0', requires_grad=True)"
      ]
     },
     "execution_count": 11,
     "metadata": {},
     "output_type": "execute_result"
    }
   ],
   "source": [
    "gaussian_model._scaling"
   ]
  }
 ],
 "metadata": {
  "kernelspec": {
   "display_name": "gs",
   "language": "python",
   "name": "python3"
  },
  "language_info": {
   "codemirror_mode": {
    "name": "ipython",
    "version": 3
   },
   "file_extension": ".py",
   "mimetype": "text/x-python",
   "name": "python",
   "nbconvert_exporter": "python",
   "pygments_lexer": "ipython3",
   "version": "3.7.13"
  }
 },
 "nbformat": 4,
 "nbformat_minor": 2
}
